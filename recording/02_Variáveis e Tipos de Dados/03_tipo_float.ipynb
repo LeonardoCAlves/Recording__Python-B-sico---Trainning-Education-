{
 "cells": [
  {
   "cell_type": "markdown",
   "metadata": {},
   "source": [
    "<p style=\"text-align:center; font-size:1.8rem; color:#00ffb7\">\n",
    "Números reais ou decimais <strong>float</strong>  \n",
    "</p>\n",
    "<p style=\"text-align:center; font-size:1.5rem; color:#fff\"></p>\n",
    "Importante ressaltar que deve ser separado por ponto e não vírgula. Utilizar a vígula neste caso, não implica em erro, mas estaremos criando outro tipo de dado.\n",
    "<p>\n",
    ". "
   ]
  }
 ],
 "metadata": {
  "language_info": {
   "name": "python"
  }
 },
 "nbformat": 4,
 "nbformat_minor": 2
}
