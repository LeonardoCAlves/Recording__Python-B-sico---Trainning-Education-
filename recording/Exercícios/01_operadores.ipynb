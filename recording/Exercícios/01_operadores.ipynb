{
 "cells": [
  {
   "cell_type": "markdown",
   "metadata": {},
   "source": [
    "<p style=\"text-align:center; font-size:1.8rem; color:#00ffb7\">Sistema de Vendas</p>\n",
    "<p style=\"text-align:left; font-size:1.4rem; color:#fff\">\n",
    "<i>Nesta etapa da vida, vamos lidar apenas com o cadastro do produto.</i><br><br>\n",
    "<strong>Entrada:</strong><br>\n",
    "&nbsp;&nbsp;&nbsp;&nbsp;&nbsp;Nome do produto.<br>\n",
    "&nbsp;&nbsp;&nbsp;&nbsp;&nbsp;Preço sem desconto.<br>\n",
    "&nbsp;&nbsp;&nbsp;&nbsp;&nbsp;Porcentagem de desconto.<br>\n",
    "\n",
    "<strong>Processamento:</strong><br>\n",
    "&nbsp;&nbsp;&nbsp;&nbsp;&nbsp;Calcule o novo preço produto com desconto<br>\n",
    "\n",
    "<strong>Saída:</strong><br>\n",
    "&nbsp;&nbsp;&nbsp;&nbsp;&nbsp;Nome do produto.<br>\n",
    "&nbsp;&nbsp;&nbsp;&nbsp;&nbsp;Preço com desconto."
   ]
  }
 ],
 "metadata": {
  "language_info": {
   "name": "python"
  }
 },
 "nbformat": 4,
 "nbformat_minor": 2
}
