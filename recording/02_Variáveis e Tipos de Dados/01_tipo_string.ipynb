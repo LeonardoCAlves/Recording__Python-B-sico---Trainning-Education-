{
 "cells": [
  {
   "cell_type": "markdown",
   "metadata": {},
   "source": [
    "<p style=\"text-align:center; font-size:1.8rem; color:#00ffb7\">\n",
    "    Texto <strong>string</strong><br>\n",
    "    'Léo', \"Léo\"\n",
    "<p style=\"text-align:center; font-size:1.5rem; color:#fff\">\n",
    "Texto, por padrão, sempre estará entre apóstrofos, aspas ou aspas duplas triplas\n",
    "</p>"
   ]
  }
 ],
 "metadata": {
  "language_info": {
   "name": "python"
  }
 },
 "nbformat": 4,
 "nbformat_minor": 2
}
