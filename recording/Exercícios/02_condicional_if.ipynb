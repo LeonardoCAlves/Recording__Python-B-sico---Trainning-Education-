{
 "cells": [
  {
   "cell_type": "markdown",
   "metadata": {},
   "source": [
    "<p style=\"text-align:center; font-size:1.8rem; color:#00ffb7\">Auto_Escola do Léo</p>\n",
    "<p style=\"text-align:left; font-size:1.4rem; color:#fff\">\n",
    "<strong>Entrada:</strong><br>\n",
    "&nbsp;&nbsp;&nbsp;&nbsp;&nbsp;Nome do Cliente<br>\n",
    "&nbsp;&nbsp;&nbsp;&nbsp;&nbsp;Data de nascimento<br><br>\n",
    "<strong>Processamento:</strong><br>\n",
    "&nbsp;&nbsp;&nbsp;&nbsp;&nbsp;Calcule a idade do usuário.<br>\n",
    "&nbsp;&nbsp;&nbsp;&nbsp;&nbsp;Seguindo a tabela abaixo, classifique:<br>\n",
    "\n",
    "| Faixa Etária     | Categoria    |\n",
    "|------------------|--------------|\n",
    "| 00 a 12 anos     | Criança      |\n",
    "| 13 a 17 anos     | Adolescente  |\n",
    "| 18 a 64 anos     | Adulto       |\n",
    "| +65 anos         | Idoso        |\n",
    "\n",
    "</p>\n",
    "<p style=\"text-align:left; font-size:1.4rem; color:#fff\">\n",
    "Pós classificação, determine:<br>\n",
    "&nbsp;&nbsp;&nbsp;&nbsp;Criança:<br>\n",
    "&nbsp;&nbsp;&nbsp;&nbsp;&nbsp;&nbsp;&nbsp;&nbsp;Ops, não podemos prosseguir!<br>\n",
    "&nbsp;&nbsp;&nbsp;&nbsp;Adolescente:<br>\n",
    "&nbsp;&nbsp;&nbsp;&nbsp;&nbsp;&nbsp;&nbsp;&nbsp;com 15 anos ou menos<br>\n",
    "&nbsp;&nbsp;&nbsp;&nbsp;&nbsp;&nbsp;&nbsp;&nbsp;Ops, não podemos prosseguir...<br>\n",
    "&nbsp;&nbsp;&nbsp;&nbsp;16 ou 17 anos<br> \n",
    "&nbsp;&nbsp;&nbsp;&nbsp;&nbsp;&nbsp;&nbsp;&nbsp;Tem autorização  dos responsáveis?<br> \n",
    "&nbsp;&nbsp;&nbsp;&nbsp;&nbsp;&nbsp;&nbsp;&nbsp;&nbsp;&nbsp;&nbsp;&nbsp;Sim → Ok, vamos prosseguir...<br>\n",
    "&nbsp;&nbsp;&nbsp;&nbsp;&nbsp;&nbsp;&nbsp;&nbsp;&nbsp;&nbsp;&nbsp;&nbsp;Não → Ops, não podemos prosseguir...<br>\n",
    "&nbsp;&nbsp;&nbsp;&nbsp;Adulto:<br>\n",
    "&nbsp;&nbsp;&nbsp;&nbsp;&nbsp;&nbsp;&nbsp;&nbsp;Ok, vamos prosseguir... <br>          \n",
    "&nbsp;&nbsp;&nbsp;&nbsp;Idosos:<br>\n",
    "&nbsp;&nbsp;&nbsp;&nbsp;&nbsp;&nbsp;&nbsp;&nbsp;Tem autorização médica?<br>\n",
    "&nbsp;&nbsp;&nbsp;&nbsp;&nbsp;&nbsp;&nbsp;&nbsp;&nbsp;&nbsp;&nbsp;&nbsp;Sim → Ok, vamos seguir...<br>\n",
    "&nbsp;&nbsp;&nbsp;&nbsp;&nbsp;&nbsp;&nbsp;&nbsp;&nbsp;&nbsp;&nbsp;&nbsp;Não → Ops, não podemos prosseguir...<br>\n",
    "<strong>Saída:</strong><br>\n",
    "&nbsp;&nbsp;&nbsp;&nbsp;&nbsp; Informe ao usuário sua classificação.<br>\n",
    "\n"
   ]
  }
 ],
 "metadata": {
  "language_info": {
   "name": "python"
  }
 },
 "nbformat": 4,
 "nbformat_minor": 2
}
