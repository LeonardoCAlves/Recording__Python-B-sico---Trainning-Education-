{
 "cells": [
  {
   "cell_type": "markdown",
   "metadata": {},
   "source": [
    "<p style=\"text-align:center; font-size:1.8rem; color:#00ffb7\">Return</p>\n",
    "<p style=\"text-align:center; font-size:1.5rem; color:#fff\">  \n",
    "Parâmetros: São as variáveis definidas na declaração de uma função, que especificam os dados que a função espera receber.\n",
    "Argumentos: São os valores reais passados para a função quando ela é chamada.\n",
    "Parâmetros aparecem na definição da função enquant que, argumentos são usados na chamada da função.\n",
    "     <p style=\"text-align:left; font-size:1.5rem; color:#fff\">\n",
    "          <strong style=\"color:#fff\">Sintaxe</strong><br> \n",
    "          <strong style=\"color:#ff0080\">def</strong> nome_da_função(\n",
    "               <strong>parâmetros</strong> ):<br>\n",
    "          &nbsp;&nbsp;&nbsp;&nbsp;&nbsp; execução<br>&nbsp;&nbsp;&nbsp;&nbsp;&nbsp;\n",
    "          <strong style=\"color:#ff0080\">return</strong>  \n",
    "     </p>\n",
    "<p style=\"text-align:left; font-size:1.4rem\">objeto1 = Nome_da_função( argumentos )</p>\n",
    "</p>"
   ]
  }
 ],
 "metadata": {
  "language_info": {
   "name": "python"
  }
 },
 "nbformat": 4,
 "nbformat_minor": 2
}
