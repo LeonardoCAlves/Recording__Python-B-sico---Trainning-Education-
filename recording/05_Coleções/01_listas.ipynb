{
 "cells": [
  {
   "cell_type": "markdown",
   "metadata": {},
   "source": [
    "<p style=\"text-align:center; font-size:1.8rem; color:#00ffb7\">\n",
    "Lista&nbsp;&nbsp;&nbsp;&nbsp;||&nbsp;&nbsp;&nbsp;&nbsp;Class: list&nbsp;&nbsp;&nbsp;&nbsp;||&nbsp;&nbsp;&nbsp;&nbsp;símbolo: [ ] \n",
    "</p>\n",
    "<p style=\"text-align:center; font-size:1.5rem; color:#fff\">  \n",
    "Listas são coleções que permitem armazenar vários itens em uma única variável, podendo conter tipos de dados diferentes. São mutáveis, ou seja, seus valores podem ser alterados.\n",
    "</p>"
   ]
  }
 ],
 "metadata": {
  "language_info": {
   "name": "python"
  }
 },
 "nbformat": 4,
 "nbformat_minor": 2
}
