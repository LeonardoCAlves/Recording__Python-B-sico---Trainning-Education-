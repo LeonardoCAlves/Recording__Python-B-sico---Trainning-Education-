{
 "cells": [
  {
   "cell_type": "markdown",
   "metadata": {},
   "source": [
    "   BOLETIM\n",
    "\n",
    "    ENTRADA\n",
    "        Nome do aluno\n",
    "        4 notas\n",
    "\n",
    "    PROCESSAMENTO\n",
    "        Crie um FLAG\n",
    "        Calcule a média das 4 notas\n",
    "        Identifique o aluno responsável pela maior média\n",
    "        Identifique o aluno responsável pela menor média\n",
    "        \n",
    "    SAÍDA\n",
    "        Informações do aluno com maior média\n",
    "        Informações do aluno com menor média"
   ]
  }
 ],
 "metadata": {
  "language_info": {
   "name": "python"
  }
 },
 "nbformat": 4,
 "nbformat_minor": 2
}
