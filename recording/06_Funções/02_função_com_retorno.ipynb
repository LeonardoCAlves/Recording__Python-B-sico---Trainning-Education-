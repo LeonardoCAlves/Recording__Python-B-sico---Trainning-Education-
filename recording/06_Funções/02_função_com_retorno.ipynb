{
 "cells": [
  {
   "cell_type": "markdown",
   "metadata": {
    "vscode": {
     "languageId": "plaintext"
    }
   },
   "source": [
    "<p style=\"text-align:center; font-size:1.8rem; color:#00ffb7\">Return</p>\n",
    "<p style=\"text-align:center; font-size:1.5rem; color:#fff\">  \n",
    "A instrução return finaliza a execução de uma função e especifica o valor que \n",
    "será retornado ao chamador da função. Se return não for usado, a função retorna None por padrão.\n",
    "     <p style=\"text-align:left; font-size:1.5rem; color:#fff\">\n",
    "          <strong style=\"color:#fff\">Sintaxe</strong><br> \n",
    "          <strong style=\"color:#ff0080\">def</strong> nome_da_função():<br>\n",
    "          &nbsp;&nbsp;&nbsp;&nbsp;&nbsp;execução<br>&nbsp;&nbsp;&nbsp;&nbsp;&nbsp;<strong style=\"color:#ff0080\">return</strong>  \n",
    "     </p>\n",
    "<p style=\"text-align:left; font-size:1.4rem\">print(Nome_da_função())</p>\n",
    "</p>"
   ]
  }
 ],
 "metadata": {
  "language_info": {
   "name": "python"
  }
 },
 "nbformat": 4,
 "nbformat_minor": 2
}
