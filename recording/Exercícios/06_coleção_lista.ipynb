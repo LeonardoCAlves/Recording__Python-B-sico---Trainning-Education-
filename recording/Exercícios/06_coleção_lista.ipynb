{
 "cells": [
  {
   "cell_type": "markdown",
   "metadata": {},
   "source": [
    "SAQUE EM CAIXA ELETRÔNICO\n",
    "\n",
    "    ENTRADA\n",
    "        Saldo fixo de R$1000\n",
    "        Saque\n",
    "\n",
    "    REQUISITO\n",
    "        While True \n",
    "    \n",
    "    PROCESSAMENTO\n",
    "        Solicitação de Saque:\n",
    "            Opção para sacar, visualizar saldo e sair\n",
    "\n",
    "        Valide se a operação pode ser realizada\n",
    "\n",
    "    SAÍDA\n",
    "        Estrado de retiradas\n",
    "        Saldo atual"
   ]
  }
 ],
 "metadata": {
  "language_info": {
   "name": "python"
  }
 },
 "nbformat": 4,
 "nbformat_minor": 2
}
