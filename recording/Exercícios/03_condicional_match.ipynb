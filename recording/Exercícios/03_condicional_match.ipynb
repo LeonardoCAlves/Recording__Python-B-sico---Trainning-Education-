{
 "cells": [
  {
   "cell_type": "markdown",
   "metadata": {},
   "source": [
    "<p style=\"text-align:center; font-size:1.8rem; color:#00ffb7\">Transação Bancária</p>\n",
    "<p style=\"text-align:left; font-size:1.4rem; color:#fff\">\n",
    "<strong>Entrada:</strong><br>\n",
    "&nbsp;&nbsp;&nbsp;&nbsp;&nbsp;Valor da transação.<br>\n",
    "&nbsp;&nbsp;&nbsp;&nbsp;&nbsp;Tipo da transação (crédito | débito)<br><br>\n",
    "<strong>Processamento:</strong><br>\n",
    "&nbsp;&nbsp;&nbsp;&nbsp;&nbsp;Classifique a transação por tipo.<br>\n",
    "&nbsp;&nbsp;&nbsp;&nbsp;&nbsp;Classifique por valor.<br><br>\n",
    "<strong>Saída:</strong><br>\n",
    "&nbsp;&nbsp;&nbsp;&nbsp;&nbsp;Status da transação<br>\n",
    "&nbsp;&nbsp;&nbsp;&nbsp;&nbsp;Saldo atual.\n",
    "<p style=\"text-align:center; font-size:1.1rem; color:#101010\">Development by Leonardo Alves</p>\n"
   ]
  },
  {
   "cell_type": "code",
   "execution_count": null,
   "metadata": {
    "vscode": {
     "languageId": "plaintext"
    }
   },
   "outputs": [],
   "source": [
    "valor = float(input('Digite o valor da transação: '))\n",
    "tipo = int(input('Digite o tipo da transação [1] Débito [2] Crédito: '))\n",
    "\n",
    "match tipo:\n",
    "    case 1:\n",
    "        if valor > 0:\n",
    "            print(f'\\nTransação: Débito | Valor: R${valor:.2f} | Status: Realizada.')\n",
    "        else:\n",
    "            print(f'\\nTransação: Débito | Valor: Inválido | Status: NÃO Realizada.')\n",
    "    case 2: \n",
    "        if valor > 0:\n",
    "            print(f'\\nTransação: Crédito | Valor: R${valor:.2f} | Status: Realizada.')\n",
    "        else:\n",
    "            print(f'\\nTransação: Crédito | Valor: Inválido | Status: NÃO Realizada.')\n",
    "    case _:\n",
    "        print(f'\\nOpção inválida!')"
   ]
  }
 ],
 "metadata": {
  "language_info": {
   "name": "python"
  }
 },
 "nbformat": 4,
 "nbformat_minor": 2
}
