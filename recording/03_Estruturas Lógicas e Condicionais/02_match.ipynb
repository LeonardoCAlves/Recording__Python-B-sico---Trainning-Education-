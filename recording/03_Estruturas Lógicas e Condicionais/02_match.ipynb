{
 "cells": [
  {
   "cell_type": "markdown",
   "metadata": {},
   "source": [
    "<p style=\"text-align:center; font-size:1.8rem; color:#00ffb7\">\n",
    "Estrutura condicional <strong>Match</strong>\n",
    "</p>\n",
    "<p style=\"text-align:center; font-size:1.5rem; color:#fff\">\n",
    "Mais utilizada em menus, chatbot e etc. Funciona semelhante ao escolhaCaso do portugol\n",
    "e switch case no java...\n",
    "</p>"
   ]
  }
 ],
 "metadata": {
  "language_info": {
   "name": "python"
  }
 },
 "nbformat": 4,
 "nbformat_minor": 2
}
