{
 "cells": [
  {
   "cell_type": "markdown",
   "metadata": {},
   "source": [
    "<p style=\"text-align:center; font-size:1.8rem; color:#00ffb7\">Gorjeta</p>\n",
    "<p style=\"text-align:left; font-size:1.4rem; color:#fff\">\n",
    "<strong>Entrada:</strong><br>\n",
    "&nbsp;&nbsp;&nbsp;&nbsp;&nbsp;Para cada mesa:<br>\n",
    "&nbsp;&nbsp;&nbsp;&nbsp;&nbsp;Valor da conta.<br>\n",
    "&nbsp;&nbsp;&nbsp;&nbsp;&nbsp;Bebida especial.<br>\n",
    "&nbsp;&nbsp;&nbsp;&nbsp;&nbsp;Tempo de permanência.<br>\n",
    "&nbsp;&nbsp;&nbsp;&nbsp;&nbsp;Deseja inserir outra mesa?<br><br>\n",
    "<strong>Processamento:</strong><br>\n",
    "&nbsp;&nbsp;&nbsp;&nbsp;&nbsp;Para cada mesa:<br>\n",
    "&nbsp;&nbsp;&nbsp;&nbsp;&nbsp;Calcule a gorjeta com base nos critérios:<br>\n",
    "&nbsp;&nbsp;&nbsp;&nbsp;&nbsp;10% do valor da conta.<br>\n",
    "&nbsp;&nbsp;&nbsp;&nbsp;&nbsp;Se houver bebida especial, adicione R$5,00.<br>\n",
    "&nbsp;&nbsp;&nbsp;&nbsp;&nbsp;Se o tempo superior a 1:30, adicione R$15,00.<br>\n",
    "&nbsp;&nbsp;&nbsp;&nbsp;&nbsp;Acumule o valor das gorjetas.<br><br>\n",
    "<strong>Saída:</strong><br>\n",
    "&nbsp;&nbsp;&nbsp;&nbsp;&nbsp;Apresente o valor total das gorjetas pagas ao garçom.\n",
    "<p style=\"text-align:center; font-size:1.1rem; color:#101010\">Development by Leonardo Alves</p>"
   ]
  },
  {
   "cell_type": "code",
   "execution_count": null,
   "metadata": {
    "vscode": {
     "languageId": "plaintext"
    }
   },
   "outputs": [],
   "source": [
    "def calcular_gorjeta(valor_conta, bebida_especial, tempo):\n",
    "    gorjeta = valor_conta * 0.10\n",
    "\n",
    "    if bebida_especial.lower() == 'sim':gorjeta += 5.00\n",
    "\n",
    "    horas, minutos = map(int, tempo.split(':'))\n",
    "    if horas > 1 or (horas == 1 and minutos > 30):gorjeta += 15.00\n",
    "\n",
    "    return gorjeta\n",
    "\n",
    "total_gorjetas = 0\n",
    "while True:\n",
    "    valor_conta = float(input(\"\\nDigite o valor da conta: R$ \"))\n",
    "    bebida_especial = input(\"Houve bebida especial? (sim/não): \")\n",
    "    tempo = input(\"Digite o tempo de permanência (hh:mm): \")\n",
    "\n",
    "    gorjeta = calcular_gorjeta(valor_conta, bebida_especial, tempo)\n",
    "    total_gorjetas += gorjeta\n",
    "\n",
    "    print(f\"\\nO valor da gorjeta para esta mesa é: R$ {gorjeta:.2f}\")\n",
    "    \n",
    "    while True:\n",
    "        continuar = input(\"\\nDeseja inserir outra mesa? (s/n): \").strip().lower()\n",
    "        if continuar == 'n':\n",
    "            break\n",
    "        elif continuar == 's':\n",
    "            break\n",
    "        else:\n",
    "            print('Opção inválida!')\n",
    "\n",
    "    if continuar == 'n': break\n",
    "    \n",
    "print(f\"\\n\\nSuas gorjetas hoje: R$ {total_gorjetas:.2f}\")"
   ]
  }
 ],
 "metadata": {
  "language_info": {
   "name": "python"
  }
 },
 "nbformat": 4,
 "nbformat_minor": 2
}
