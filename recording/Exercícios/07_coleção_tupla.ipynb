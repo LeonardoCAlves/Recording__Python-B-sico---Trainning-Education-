{
 "cells": [
  {
   "cell_type": "markdown",
   "metadata": {},
   "source": [
    "<p style=\"text-align:center; font-size:1.8rem; color:#00ffb7\">Feira</p>\n",
    "<p style=\"text-align:left; font-size:1.4rem; color:#fff\">\n",
    "Crie uma tupla com 5 frutas e peça ao usuário para inserir o nome de uma fruta. Verifique se a fruta inserida está na tupla, e caso não esteja, sugira as frutas disponíveis.</p>\n"
   ]
  }
 ],
 "metadata": {
  "language_info": {
   "name": "python"
  }
 },
 "nbformat": 4,
 "nbformat_minor": 2
}
