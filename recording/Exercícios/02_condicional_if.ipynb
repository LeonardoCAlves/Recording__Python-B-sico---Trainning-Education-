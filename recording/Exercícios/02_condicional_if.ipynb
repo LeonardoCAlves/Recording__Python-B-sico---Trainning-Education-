{
 "cells": [
  {
   "cell_type": "markdown",
   "metadata": {},
   "source": [
    "<p style=\"text-align:center; font-size:1.8rem; color:#00ffb7\">Auto_Escola do Léo</p>\n",
    "<p style=\"text-align:left; font-size:1.4rem; color:#fff\">\n",
    "<strong>Entrada:</strong><br>\n",
    "&nbsp;&nbsp;&nbsp;&nbsp;&nbsp;Nome do Cliente<br>\n",
    "&nbsp;&nbsp;&nbsp;&nbsp;&nbsp;Data de nascimento<br><br>\n",
    "<strong>Processamento:</strong><br>\n",
    "&nbsp;&nbsp;&nbsp;&nbsp;&nbsp;Calcule a idade do usuário.<br>\n",
    "&nbsp;&nbsp;&nbsp;&nbsp;&nbsp;Seguindo a tabela abaixo, classifique:<br>\n",
    "\n",
    "| Faixa Etária     | Categoria    |\n",
    "|------------------|--------------|\n",
    "| 00 a 12 anos     | Criança      |\n",
    "| 13 a 17 anos     | Adolescente  |\n",
    "| 18 a 64 anos     | Adulto       |\n",
    "| +65 anos         | Idoso        |\n",
    "\n",
    "</p>\n",
    "<p style=\"text-align:left; font-size:1.4rem; color:#fff\">\n",
    "Pós classificação, determine:<br>\n",
    "&nbsp;&nbsp;&nbsp;&nbsp;Criança:<br>\n",
    "&nbsp;&nbsp;&nbsp;&nbsp;&nbsp;&nbsp;&nbsp;&nbsp;Ops, não podemos prosseguir!<br>\n",
    "&nbsp;&nbsp;&nbsp;&nbsp;Adolescente:<br>\n",
    "&nbsp;&nbsp;&nbsp;&nbsp;&nbsp;&nbsp;&nbsp;&nbsp;com 15 anos ou menos<br>\n",
    "&nbsp;&nbsp;&nbsp;&nbsp;&nbsp;&nbsp;&nbsp;&nbsp;Ops, não podemos prosseguir...<br>\n",
    "&nbsp;&nbsp;&nbsp;&nbsp;16 ou 17 anos<br> \n",
    "&nbsp;&nbsp;&nbsp;&nbsp;&nbsp;&nbsp;&nbsp;&nbsp;Tem autorização  dos responsáveis?<br> \n",
    "&nbsp;&nbsp;&nbsp;&nbsp;&nbsp;&nbsp;&nbsp;&nbsp;&nbsp;&nbsp;&nbsp;&nbsp;Sim → Ok, vamos prosseguir...<br>\n",
    "&nbsp;&nbsp;&nbsp;&nbsp;&nbsp;&nbsp;&nbsp;&nbsp;&nbsp;&nbsp;&nbsp;&nbsp;Não → Ops, não podemos prosseguir...<br>\n",
    "&nbsp;&nbsp;&nbsp;&nbsp;Adulto:<br>\n",
    "&nbsp;&nbsp;&nbsp;&nbsp;&nbsp;&nbsp;&nbsp;&nbsp;Ok, vamos prosseguir... <br>          \n",
    "&nbsp;&nbsp;&nbsp;&nbsp;Idosos:<br>\n",
    "&nbsp;&nbsp;&nbsp;&nbsp;&nbsp;&nbsp;&nbsp;&nbsp;Tem autorização médica?<br>\n",
    "&nbsp;&nbsp;&nbsp;&nbsp;&nbsp;&nbsp;&nbsp;&nbsp;&nbsp;&nbsp;&nbsp;&nbsp;Sim → Ok, vamos seguir...<br>\n",
    "&nbsp;&nbsp;&nbsp;&nbsp;&nbsp;&nbsp;&nbsp;&nbsp;&nbsp;&nbsp;&nbsp;&nbsp;Não → Ops, não podemos prosseguir...<br>\n",
    "<strong>Saída:</strong><br>\n",
    "&nbsp;&nbsp;&nbsp;&nbsp;&nbsp; Informe ao usuário sua classificação.<br>\n",
    "<p style=\"text-align:center; font-size:1.1rem; color:#101010\">Development by Leonardo Alves</p>\n"
   ]
  },
  {
   "cell_type": "code",
   "execution_count": null,
   "metadata": {
    "vscode": {
     "languageId": "plaintext"
    }
   },
   "outputs": [],
   "source": [
    "import datetime\n",
    "\n",
    "nome = input(\"Digite o nome do cliente: \")\n",
    "data_nascimento = input(\"Digite a data de nascimento (no formato DD/MM/AAAA): \")\n",
    "\n",
    "data_nascimento = datetime.datetime.strptime(data_nascimento, \"%d/%m/%Y\")\n",
    "data_atual = datetime.datetime.now()\n",
    "idade = data_atual.year - data_nascimento.year - ((data_atual.month, data_atual.day) < (data_nascimento.month, data_nascimento.day))\n",
    "\n",
    "if idade <= 12:status = \"Ops, não podemos prosseguir!\"\n",
    "elif idade <= 17:\n",
    "    if idade <= 15:status = \"Ops, não podemos prosseguir...\"\n",
    "    elif idade <= 17:\n",
    "        autorizacao = input(\"Tem autorização dos responsáveis? (sim/não): \").lower()\n",
    "        if autorizacao == \"sim\":status = \"Ok, vamos prosseguir...\"\n",
    "        else:status = \"Ops, não podemos prosseguir...\"\n",
    "elif idade <= 64:status = \"Ok, vamos prosseguir...\"\n",
    "else:\n",
    "    autorizacao_medica = input(\"Tem autorização médica? (sim/não): \").lower()\n",
    "    if autorizacao_medica == \"sim\":status = \"Ok, vamos prosseguir...\"\n",
    "    else:status = \"Ops, não podemos prosseguir...\"\n",
    "\n",
    "\n",
    "print(f\"Informações para {nome}: {status}\")"
   ]
  }
 ],
 "metadata": {
  "language_info": {
   "name": "python"
  }
 },
 "nbformat": 4,
 "nbformat_minor": 2
}
