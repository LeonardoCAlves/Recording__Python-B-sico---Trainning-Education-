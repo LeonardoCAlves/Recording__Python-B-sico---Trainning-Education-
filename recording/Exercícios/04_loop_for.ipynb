{
 "cells": [
  {
   "cell_type": "markdown",
   "metadata": {},
   "source": [
    "\n",
    "    PESQUISA DE GRUPO\n",
    "    \n",
    "    ENTRADA:\n",
    "        Nome\n",
    "        Idade\n",
    "        Sexo (M para masculino, F para feminino)\n",
    "        Renda mensal\n",
    "        Escolaridade (nível de escolaridade)\n",
    "\n",
    "    PROCESSAMENTO:\n",
    "        Calcule:\n",
    "            A média de idade dos homens.\n",
    "            A média de idade das mulheres.\n",
    "            A média geral de idade.\n",
    "            A média de renda mensal dos homens.\n",
    "            A média de renda mensal das mulheres.\n",
    "            A média geral de renda mensal.\n",
    "        \n",
    "        Identifique:\n",
    "            O nome da pessoa com a maior renda.\n",
    "            O nome da pessoa com a menor escolaridade.\n",
    "\n",
    "    REQUISITOS:\n",
    "        Use um loop for para coletar os dados de cada pessoa.\n",
    "        Use estruturas condicionais if ou match para processar \n",
    "        os dados conforme o sexo da pessoa.\n",
    "\n",
    "    SAÍDAS:\n",
    "        Média de idade dos homens\n",
    "        Média de idade das mulheres\n",
    "        Média geral de idade\n",
    "        Média de renda mensal dos homens\n",
    "        Média de renda mensal das mulheres\n",
    "        Média geral de renda mensal\n",
    "        Nome da pessoa com a maior renda\n",
    "        Nome da pessoa com a menor escolaridade\n"
   ]
  }
 ],
 "metadata": {
  "language_info": {
   "name": "python"
  }
 },
 "nbformat": 4,
 "nbformat_minor": 2
}
