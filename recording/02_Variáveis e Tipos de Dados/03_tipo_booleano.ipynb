{
 "cells": [
  {
   "cell_type": "markdown",
   "metadata": {},
   "source": [
    "<p style=\"text-align:center; font-size:1.8rem; color:#00ffb7\">\n",
    "True ou False <strong>bool</strong>\n",
    "</p>\n",
    "<p style=\"text-align:center; font-size:1.5rem; color:#fff\"> \n",
    "2 constantes - Verdadeiro e falso.\n",
    "Maneira direta de testar booleano >>>  print('a' in 'maria')\n",
    "<p>\n"
   ]
  }
 ],
 "metadata": {
  "language_info": {
   "name": "python"
  }
 },
 "nbformat": 4,
 "nbformat_minor": 2
}
