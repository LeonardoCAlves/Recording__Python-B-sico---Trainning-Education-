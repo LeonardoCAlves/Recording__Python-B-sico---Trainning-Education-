{
 "cells": [
  {
   "cell_type": "markdown",
   "metadata": {},
   "source": [
    "<p style=\"text-align:center; font-size:1.8rem; color:#00ffb7\">Procurar na Turma</p>\n",
    "<p style=\"text-align:left; font-size:1.4rem; color:#fff\">\n",
    "Crie um dicionário que armazena o nome de 3 alunos e suas respectivas notas. Permita que o usuário insira o nome de um aluno e retorne a nota, ou exiba uma mensagem para cadastrar um novo aluno caso ele não esteja no dicionário.</p>\n",
    "<p style=\"text-align:center; font-size:1.1rem; color:#101010\">Development by Leonardo Alves</p>"
   ]
  },
  {
   "cell_type": "code",
   "execution_count": null,
   "metadata": {
    "vscode": {
     "languageId": "plaintext"
    }
   },
   "outputs": [],
   "source": [
    "notas = {'João': 8.5, 'Maria': 9.0, 'Pedro': 7.5}\n",
    "aluno = input(\"Digite o nome de um aluno: \").capitalize()\n",
    "\n",
    "if aluno in notas:\n",
    "    print(f\"A nota de {aluno} é {notas[aluno]}.\")\n",
    "else:\n",
    "    print(f\"Aluno {aluno} não encontrado. Deseja cadastrá-lo?\")\n",
    "    resposta = input(\"Digite 'sim' para cadastrar: \").lower()\n",
    "    if resposta == 'sim':\n",
    "        nota = float(input(f\"Digite a nota de {aluno}: \"))\n",
    "        notas[aluno] = nota\n",
    "        print(f\"Aluno {aluno} cadastrado com nota {nota}.\")\n",
    "    else:\n",
    "        print(\"Cadastro não realizado.\")"
   ]
  }
 ],
 "metadata": {
  "language_info": {
   "name": "python"
  }
 },
 "nbformat": 4,
 "nbformat_minor": 2
}
