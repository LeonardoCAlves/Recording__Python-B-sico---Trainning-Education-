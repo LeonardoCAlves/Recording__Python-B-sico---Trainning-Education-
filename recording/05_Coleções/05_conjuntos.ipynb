{
 "cells": [
  {
   "cell_type": "markdown",
   "metadata": {},
   "source": [
    "<p style=\"text-align:center; font-size:1.8rem; color:#00ffb7\">\n",
    "Conjunto&nbsp;&nbsp;&nbsp;&nbsp;||&nbsp;&nbsp;&nbsp;&nbsp;Class: set&nbsp;&nbsp;&nbsp;&nbsp;||&nbsp;&nbsp;&nbsp;&nbsp;símbolo: { } \n",
    "</p>\n",
    "<p style=\"text-align:center; font-size:1.5rem; color:#fff\">  \n",
    "Conjuntos são coleções desordenadas e não indexadas de itens únicos. São mutáveis, mas não permitem itens duplicados.\n",
    "</p>"
   ]
  }
 ],
 "metadata": {
  "language_info": {
   "name": "python"
  }
 },
 "nbformat": 4,
 "nbformat_minor": 2
}
