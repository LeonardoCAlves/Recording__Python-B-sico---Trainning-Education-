{
 "cells": [
  {
   "cell_type": "markdown",
   "metadata": {},
   "source": [
    "    GORJETA\n",
    "\n",
    "    ENTRADA:\n",
    "        Para cada mesa:\n",
    "            Valor da conta.\n",
    "            Bebida especial.\n",
    "            Tempo de permanência.\n",
    "            Deseja inserir outra mesa?\n",
    "\n",
    "    PROCESSAMENTO:\n",
    "        Para cada mesa:\n",
    "            Calcule a gorjeta com base nos critérios:\n",
    "                10% do valor da conta.\n",
    "                Se houver bebida especial, adicione R$5,00.\n",
    "                Se o tempo superior a 1:30, adicione R$15,00.\n",
    "        Acumule o valor das gorjetas.\n",
    "\n",
    "    SAÍDA:\n",
    "        Apresente o valor total das gorjetas pagas ao garçom."
   ]
  }
 ],
 "metadata": {
  "language_info": {
   "name": "python"
  }
 },
 "nbformat": 4,
 "nbformat_minor": 2
}
