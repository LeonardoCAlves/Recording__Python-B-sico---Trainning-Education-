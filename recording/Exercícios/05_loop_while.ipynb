{
 "cells": [
  {
   "cell_type": "markdown",
   "metadata": {},
   "source": [
    "<p style=\"text-align:center; font-size:1.8rem; color:#00ffb7\">Boletim</p>\n",
    "<p style=\"text-align:left; font-size:1.4rem; color:#fff\">\n",
    "<strong>Entrada:</strong><br>\n",
    "&nbsp;&nbsp;&nbsp;&nbsp;&nbsp;Nome do aluno<br>\n",
    "&nbsp;&nbsp;&nbsp;&nbsp;&nbsp;4 notas<br><br>\n",
    "<strong>Processamento:</strong><br>\n",
    "&nbsp;&nbsp;&nbsp;&nbsp;&nbsp;Crie um FLAG<br>\n",
    "&nbsp;&nbsp;&nbsp;&nbsp;&nbsp;Calcule a média das 4 notas<br>\n",
    "&nbsp;&nbsp;&nbsp;&nbsp;&nbsp;Identifique o aluno responsável pela maior média<br>\n",
    "&nbsp;&nbsp;&nbsp;&nbsp;&nbsp;Identifique o aluno responsável pela menor média<br><br>\n",
    "<strong>Saída:</strong><br>\n",
    "&nbsp;&nbsp;&nbsp;&nbsp;&nbsp;Informações do aluno com maior média<br>\n",
    "&nbsp;&nbsp;&nbsp;&nbsp;&nbsp;Informações do aluno com menor média\n",
    "<p style=\"text-align:center; font-size:1.1rem; color:#101010\">Development by Leonardo Alves</p>"
   ]
  },
  {
   "cell_type": "code",
   "execution_count": null,
   "metadata": {
    "vscode": {
     "languageId": "plaintext"
    }
   },
   "outputs": [],
   "source": [
    "maior_media = 0\n",
    "menor_media = float('inf')\n",
    "notas = []\n",
    "\n",
    "while True:\n",
    "    nome_aluno = input(\"\\nNome do(a) aluno(a) (ou 'fim' para encerrar): \").title()\n",
    "    \n",
    "    if nome_aluno.lower() == 'fim':break\n",
    "    for i in range(1, 5):\n",
    "        notas.append(float(input(f\"Digite a nota {i} do aluno {nome_aluno}: \")))\n",
    "    media = sum(notas) / len(notas)\n",
    "    \n",
    "    if media > maior_media:\n",
    "        maior_media = media\n",
    "        aluno_maior_media = nome_aluno\n",
    "    \n",
    "    if media < menor_media:\n",
    "        menor_media = media\n",
    "        aluno_menor_media = nome_aluno\n",
    "\n",
    "print(f\"\\n\\nAluno(a) com maior média: {aluno_maior_media}, Média: {maior_media:.1f}\")\n",
    "print(f\"Aluno(a) com menor média: {aluno_menor_media}, Média: {menor_media:.1f}\")"
   ]
  }
 ],
 "metadata": {
  "language_info": {
   "name": "python"
  }
 },
 "nbformat": 4,
 "nbformat_minor": 2
}
