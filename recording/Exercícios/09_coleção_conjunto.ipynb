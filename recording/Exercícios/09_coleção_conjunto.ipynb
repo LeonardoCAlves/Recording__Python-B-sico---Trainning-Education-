{
 "cells": [
  {
   "cell_type": "markdown",
   "metadata": {},
   "source": [
    "<p style=\"text-align:center; font-size:1.8rem; color:#00ffb7\">Análise Básica</p>\n",
    "<p style=\"text-align:left; font-size:1.4rem; color:#fff\">\n",
    "Crie dois conjuntos de números inteiros e exiba a união, interseção e a diferença entre os dois conjuntos.\n",
    "<p style=\"text-align:center; font-size:1.1rem; color:#101010\">Development by Leonardo Alves</p>"
   ]
  },
  {
   "cell_type": "code",
   "execution_count": null,
   "metadata": {
    "vscode": {
     "languageId": "plaintext"
    }
   },
   "outputs": [],
   "source": [
    "conjunto1 = {1, 2, 3, 4, 5}\n",
    "conjunto2 = {4, 5, 6, 7, 8}\n",
    "\n",
    "print(\"União:\", conjunto1.union(conjunto2))\n",
    "print(\"Interseção:\", conjunto1.intersection(conjunto2))\n",
    "print(\"Diferença:\", conjunto1.difference(conjunto2))"
   ]
  }
 ],
 "metadata": {
  "language_info": {
   "name": "python"
  }
 },
 "nbformat": 4,
 "nbformat_minor": 2
}
