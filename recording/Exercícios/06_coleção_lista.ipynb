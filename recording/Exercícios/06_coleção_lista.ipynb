{
 "cells": [
  {
   "cell_type": "markdown",
   "metadata": {},
   "source": [
    "<p style=\"text-align:center; font-size:1.8rem; color:#00ffb7\">Saque em caixa eletrônico</p>\n",
    "<p style=\"text-align:left; font-size:1.4rem; color:#fff\">\n",
    "<strong>Entrada:</strong><br>\n",
    "&nbsp;&nbsp;&nbsp;&nbsp;&nbsp;Saldo fixo de R$1000<br>\n",
    "&nbsp;&nbsp;&nbsp;&nbsp;&nbsp;Saque<br><br>\n",
    "<strong>Processamento:</strong><br>\n",
    "&nbsp;&nbsp;&nbsp;&nbsp;&nbsp;Solicitação de Saque:<br>\n",
    "&nbsp;&nbsp;&nbsp;&nbsp;&nbsp;Opção para sacar, visualizar saldo e sair<br>\n",
    "&nbsp;&nbsp;&nbsp;&nbsp;&nbsp;Valide se a operação pode ser realizada.<br><br>\n",
    "<strong>Saída:</strong><br>\n",
    "&nbsp;&nbsp;&nbsp;&nbsp;&nbsp;Estrato de retiradas<br>\n",
    "&nbsp;&nbsp;&nbsp;&nbsp;&nbsp;Saldo atual\n",
    "<p style=\"text-align:center; font-size:1.1rem; color:#101010\">Development by Leonardo Alves</p>"
   ]
  },
  {
   "cell_type": "code",
   "execution_count": null,
   "metadata": {
    "vscode": {
     "languageId": "plaintext"
    }
   },
   "outputs": [],
   "source": [
    "import datetime\n",
    "\n",
    "saldo = 1000\n",
    "contador_retiradas = 1\n",
    "\n",
    "while True:\n",
    "    opcao = int(input(\"\\n===== CAIXA ELETRÔNICO =====\\n \\\n",
    "    1. Sacar\\n2. Visualizar Saldo e Retiradas\\n3. Sair\\n \\\n",
    "    Digite o número da opção desejada: \"))\n",
    "\n",
    "    if opcao == 1:\n",
    "        valor_saque = float(input(\"\\nDigite o valor que deseja sacar: \"))\n",
    "\n",
    "        if valor_saque > saldo:\n",
    "            print(\"\\nSaldo insuficiente. Operação não realizada.\")\n",
    "        else:\n",
    "            saldo -= valor_saque\n",
    "            data_hora = datetime.datetime.now().strftime(\"%Y-%m-%d %H:%M:%S\")\n",
    "            nome_variavel = f\"retirada_{contador_retiradas}_{data_hora}\"\n",
    "            globals()[nome_variavel] = valor_saque  \n",
    "            contador_retiradas += 1\n",
    "            print(f\"\\nSaque de R${valor_saque:.2f} realizado com sucesso.\")\n",
    "            print(f\"Saldo restante: R${saldo:.2f}\")\n",
    "\n",
    "    elif opcao == '2':\n",
    "        print(f\"\\n\\nSaldo atual: R${saldo:.2f}\")\n",
    "        retirada_vars = [var_name for var_name in globals() if var_name.startswith('retirada_')]\n",
    "        print(\"\\nHistórico de Retiradas:\")\n",
    "        for var_name in retirada_vars:\n",
    "            var_value = globals()[var_name]\n",
    "            print(f\"{var_name}: R${var_value:.2f}\")\n",
    "\n",
    "    elif opcao == '3':\n",
    "        print(\"\\nEncerrando o caixa eletrônico.\\n\\n\")\n",
    "        break\n",
    "    else:\n",
    "        print(\"\\nOpção inválida. Por favor, digite 1, 2 ou 3.\")"
   ]
  }
 ],
 "metadata": {
  "language_info": {
   "name": "python"
  }
 },
 "nbformat": 4,
 "nbformat_minor": 2
}
