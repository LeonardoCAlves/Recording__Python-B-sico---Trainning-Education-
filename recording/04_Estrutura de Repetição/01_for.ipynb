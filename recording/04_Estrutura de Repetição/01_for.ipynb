{
 "cells": [
  {
   "cell_type": "markdown",
   "metadata": {},
   "source": [
    "<p style=\"text-align:center; font-size:1.8rem; color:#00ffb7\">  \n",
    "Estrutura de Repetição <strong>For</strong>\n",
    "</p>\n",
    "<p style=\"text-align:left; font-size:1.5rem; color:#fff\">  \n",
    "Utilizada quando se sabe a quantidade de repetições que serão necessárias,<br>\n",
    "de forma que é obrigatório determinar o final da execução do laço.\n",
    "     <p style=\"text-align:left; font-size:1.5rem; color:#fff\">\n",
    "          <strong style=\"color:#fff\">Sintaxe</strong><br> \n",
    "          <strong style=\"color:#ff0080\">for</strong> item <strong style=\"color:#ff0080\">in</strong> iterável:<br>\n",
    "          &nbsp;&nbsp;&nbsp;&nbsp;&nbsp;execução\n",
    "     </p>\n",
    "</p>\n"
   ]
  }
 ],
 "metadata": {
  "language_info": {
   "name": "python"
  }
 },
 "nbformat": 4,
 "nbformat_minor": 2
}
