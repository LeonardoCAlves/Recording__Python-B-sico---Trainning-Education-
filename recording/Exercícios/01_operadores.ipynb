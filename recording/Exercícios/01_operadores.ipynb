{
 "cells": [
  {
   "cell_type": "markdown",
   "metadata": {},
   "source": [
    "<p style=\"text-align:center; font-size:1.8rem; color:#00ffb7\">Sistema de Vendas</p>\n",
    "<p style=\"text-align:left; font-size:1.4rem; color:#fff\">\n",
    "<i>Nesta etapa da vida, vamos lidar apenas com o cadastro do produto.</i><br><br>\n",
    "<strong>Entrada:</strong><br>\n",
    "&nbsp;&nbsp;&nbsp;&nbsp;&nbsp;Nome do produto.<br>\n",
    "&nbsp;&nbsp;&nbsp;&nbsp;&nbsp;Preço sem desconto.<br>\n",
    "&nbsp;&nbsp;&nbsp;&nbsp;&nbsp;Porcentagem de desconto.<br><br>\n",
    "<strong>Processamento:</strong><br>\n",
    "&nbsp;&nbsp;&nbsp;&nbsp;&nbsp;Calcule o novo preço produto com desconto<br><br>\n",
    "<strong>Saída:</strong><br>\n",
    "&nbsp;&nbsp;&nbsp;&nbsp;&nbsp;Nome do produto.<br>\n",
    "&nbsp;&nbsp;&nbsp;&nbsp;&nbsp;Preço com desconto.\n",
    "\n",
    "<p style=\"text-align:center; font-size:1.1rem; color:#101010\">Development by Leonardo Alves</p>"
   ]
  },
  {
   "cell_type": "code",
   "execution_count": null,
   "metadata": {
    "vscode": {
     "languageId": "plaintext"
    }
   },
   "outputs": [],
   "source": [
    "nome_produto = str(input('Nome do produto: '))\n",
    "preco = float(input('Preço sem desconto: '))\n",
    "desconto = float(input('Percentual de desconto (%): '))\n",
    "\n",
    "# Forma 1\n",
    "valor_desconto = preco * desconto/100\n",
    "preco_com_desconto1 = preco - valor_desconto\n",
    "\n",
    "# Forma 2\n",
    "preco_com_desconto2 = preco - preco * desconto/100\n",
    "\n",
    "# Forma 3\n",
    "preco_com_desconto3 = preco * (1 - desconto/100)\n",
    "\n",
    "print('\\n\\nResumo do Produto:')\n",
    "print(f'Nome: {nome_produto}')\n",
    "print(f'Preço com desconto: R$ {preco_com_desconto1:.2f}')\n",
    "print(f'Preço com desconto: R$ {preco_com_desconto2:.2f}')\n",
    "print(f'Preço com desconto: R$ {preco_com_desconto3:.2f}')"
   ]
  }
 ],
 "metadata": {
  "language_info": {
   "name": "python"
  }
 },
 "nbformat": 4,
 "nbformat_minor": 2
}
