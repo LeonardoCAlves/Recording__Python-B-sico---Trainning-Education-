{
 "cells": [
  {
   "cell_type": "markdown",
   "metadata": {},
   "source": [
    "\n",
    "    TRANSAÇÃO BANCÁRIA\n",
    "\n",
    "    ENTRADA:\n",
    "        Valor da transação.\n",
    "        Tipo da transação (crédito | débito)\n",
    "\n",
    "    PROCESSAMENTO:\n",
    "        Classifique a transação por tipo.\n",
    "            Classifique por valor.\n",
    "\n",
    "    SAÍDA:\n",
    "        Status da transação\n",
    "        Saldo atual.\n"
   ]
  }
 ],
 "metadata": {
  "language_info": {
   "name": "python"
  }
 },
 "nbformat": 4,
 "nbformat_minor": 2
}
