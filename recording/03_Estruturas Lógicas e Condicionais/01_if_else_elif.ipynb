{
 "cells": [
  {
   "cell_type": "markdown",
   "metadata": {},
   "source": [
    "<p style=\"text-align:center; font-size:1.8rem; color:#00ffb7\">\n",
    "Estrutura condicional <strong>IF  ELIF  ELSE</strong>\n",
    "</p>\n",
    "<p style=\"text-align:center; font-size:1.5rem; color:#fff\">Permite que o código siga por caminhos diferentes de acordo com as decisões que são tomadas.\n",
    "</p>"
   ]
  }
 ],
 "metadata": {
  "language_info": {
   "name": "python"
  }
 },
 "nbformat": 4,
 "nbformat_minor": 2
}
