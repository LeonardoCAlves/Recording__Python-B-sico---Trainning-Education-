{
 "cells": [
  {
   "cell_type": "markdown",
   "metadata": {},
   "source": [
    "<p style=\"text-align:center; font-size:1.8rem; color:#00ffb7\">Análise Básica</p>\n",
    "<p style=\"text-align:left; font-size:1.4rem; color:#fff\">\n",
    "Crie dois conjuntos de números inteiros e exiba a união, interseção e a diferença entre os dois conjuntos."
   ]
  }
 ],
 "metadata": {
  "language_info": {
   "name": "python"
  }
 },
 "nbformat": 4,
 "nbformat_minor": 2
}
