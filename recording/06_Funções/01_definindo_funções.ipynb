{
 "cells": [
  {
   "cell_type": "markdown",
   "metadata": {},
   "source": [
    "<p style=\"text-align:center; font-size:1.8rem; color:#00ffb7\">Funções</p>\n",
    "<p style=\"text-align:center; font-size:1.5rem; color:#fff\">  \n",
    "Funções são blocos de código reutilizáveis que executam uma tarefa específica. São definidas com a palavra-chave def, seguidas do nome da função e parênteses ().\n",
    "     <p style=\"text-align:left; font-size:1.5rem; color:#fff\">\n",
    "          <strong style=\"color:#fff\">Sintaxe</strong><br> \n",
    "          <strong style=\"color:#ff0080\">def</strong> nome_da_função():<br>\n",
    "          &nbsp;&nbsp;&nbsp;&nbsp;&nbsp;execução\n",
    "     </p>\n",
    "<p style=\"text-align:left; font-size:1.4rem\">Nome_da_função()</p>\n",
    "</p>"
   ]
  }
 ],
 "metadata": {
  "language_info": {
   "name": "python"
  }
 },
 "nbformat": 4,
 "nbformat_minor": 2
}
