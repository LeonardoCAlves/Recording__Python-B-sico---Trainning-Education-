{
 "cells": [
  {
   "cell_type": "markdown",
   "metadata": {},
   "source": [
    "<p style=\"text-align:left; font-size:1.2rem; color:#00ffb7\">\n",
    "Print >>> Função interna com a finalinadede mostrar um valor na tela.<br>\n",
    "Input >>> Função interna com a finalidade de solicitar \n",
    "          que o usuário insira um determinado dado.\n",
    "</p>"
   ]
  }
 ],
 "metadata": {
  "language_info": {
   "name": "python"
  }
 },
 "nbformat": 4,
 "nbformat_minor": 2
}
