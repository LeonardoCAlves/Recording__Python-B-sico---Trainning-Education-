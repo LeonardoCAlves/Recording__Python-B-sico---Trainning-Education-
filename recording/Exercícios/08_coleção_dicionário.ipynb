{
 "cells": [
  {
   "cell_type": "markdown",
   "metadata": {},
   "source": [
    "<p style=\"text-align:center; font-size:1.8rem; color:#00ffb7\">Procurar na Turma</p>\n",
    "<p style=\"text-align:left; font-size:1.4rem; color:#fff\">\n",
    "Crie um dicionário que armazena o nome de 3 alunos e suas respectivas notas. Permita que o usuário insira o nome de um aluno e retorne a nota, ou exiba uma mensagem para cadastrar um novo aluno caso ele não esteja no dicionário.</p>"
   ]
  }
 ],
 "metadata": {
  "language_info": {
   "name": "python"
  }
 },
 "nbformat": 4,
 "nbformat_minor": 2
}
