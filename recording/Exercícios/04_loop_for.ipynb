{
 "cells": [
  {
   "cell_type": "markdown",
   "metadata": {},
   "source": [
    "<p style=\"text-align:center; font-size:1.8rem; color:#00ffb7\">Pesquisa de Grupo</p>\n",
    "<p style=\"text-align:left; font-size:1.4rem; color:#fff\">    \n",
    "<strong>Entrada:</strong><br>\n",
    "&nbsp;&nbsp;&nbsp;&nbsp;&nbsp;Nome<br>\n",
    "&nbsp;&nbsp;&nbsp;&nbsp;&nbsp;Idade<br>\n",
    "&nbsp;&nbsp;&nbsp;&nbsp;&nbsp;Sexo (M para masculino, F para feminino)<br>\n",
    "&nbsp;&nbsp;&nbsp;&nbsp;&nbsp;Renda mensal<br>\n",
    "&nbsp;&nbsp;&nbsp;&nbsp;&nbsp;Escolaridade (nível de escolaridade)<br><br>\n",
    "<strong>Processamento:</strong><br>\n",
    "&nbsp;&nbsp;Calcule:<br>\n",
    "&nbsp;&nbsp;&nbsp;&nbsp;&nbsp;A média de idade dos homens.<br>\n",
    "&nbsp;&nbsp;&nbsp;&nbsp;&nbsp;A média de idade das mulheres.<br>\n",
    "&nbsp;&nbsp;&nbsp;&nbsp;&nbsp;A média geral de idade.<br>\n",
    "&nbsp;&nbsp;&nbsp;&nbsp;&nbsp;A média de renda mensal dos homens.<br>\n",
    "&nbsp;&nbsp;&nbsp;&nbsp;&nbsp;A média de renda mensal das mulheres.<br>\n",
    "&nbsp;&nbsp;&nbsp;&nbsp;&nbsp;A média geral de renda mensal.<br>\n",
    "&nbsp;&nbsp;Identifique:<br>\n",
    "&nbsp;&nbsp;&nbsp;&nbsp;&nbsp;O nome da pessoa com a maior renda.<br>\n",
    "&nbsp;&nbsp;&nbsp;&nbsp;&nbsp;O nome da pessoa com a menor escolaridade.<br>\n",
    "&nbsp;&nbsp;Requisitos:<br>\n",
    "&nbsp;&nbsp;&nbsp;&nbsp;&nbsp;Use um loop for para coletar os dados de cada pessoa.<br>\n",
    "&nbsp;&nbsp;&nbsp;&nbsp;&nbsp;Use estruturas condicionais if ou match para processar os dados conforme o sexo da pessoa.<br><br>\n",
    "<strong>Saída:</strong><br>\n",
    "&nbsp;&nbsp;&nbsp;&nbsp;&nbsp;Média de idade dos homens<br>\n",
    "&nbsp;&nbsp;&nbsp;&nbsp;&nbsp;Média de idade das mulheres<br>\n",
    "&nbsp;&nbsp;&nbsp;&nbsp;&nbsp;Média geral de idade<br>\n",
    "&nbsp;&nbsp;&nbsp;&nbsp;&nbsp;Média de renda mensal dos homens<br>\n",
    "&nbsp;&nbsp;&nbsp;&nbsp;&nbsp;Média de renda mensal das mulheres<br>\n",
    "&nbsp;&nbsp;&nbsp;&nbsp;&nbsp;Média geral de renda mensal<br>\n",
    "&nbsp;&nbsp;&nbsp;&nbsp;&nbsp;Nome da pessoa com a maior renda<br>\n",
    "&nbsp;&nbsp;&nbsp;&nbsp;&nbsp;Nome da pessoa com a menor escolaridade\n",
    "<p style=\"text-align:center; font-size:1.1rem; color:#101010\">Development by Leonardo Alves</p>"
   ]
  },
  {
   "cell_type": "code",
   "execution_count": null,
   "metadata": {
    "vscode": {
     "languageId": "plaintext"
    }
   },
   "outputs": [],
   "source": [
    "total_idade_homens = 0\n",
    "total_idade_mulheres = 0\n",
    "total_renda_homens = 0\n",
    "total_renda_mulheres = 0\n",
    "cont_homens = 0\n",
    "cont_mulheres = 0\n",
    "pessoa_maior_renda = \"\"\n",
    "maior_renda = 0\n",
    "\n",
    "for i in range(2):\n",
    "    nome = str(input(\"Digite o nome: \"))\n",
    "    idade = int(input(\"Digite a idade: \"))\n",
    "    sexo = str(input(\"Digite o sexo (M/F): \")).upper()\n",
    "    renda = float(input(\"Digite a renda mensal: \"))\n",
    "\n",
    "    if sexo == 'M':\n",
    "        total_idade_homens += idade\n",
    "        total_renda_homens += renda\n",
    "        cont_homens += 1\n",
    "\n",
    "    elif sexo == 'F':\n",
    "        total_idade_mulheres += idade\n",
    "        total_renda_mulheres += renda\n",
    "        cont_mulheres += 1\n",
    "    \n",
    "    if renda > maior_renda:\n",
    "        maior_renda = renda\n",
    "        pessoa_maior_renda = nome\n",
    "    \n",
    "media_idade_homens = total_idade_homens / cont_homens if cont_homens > 0 else 0\n",
    "media_idade_mulheres = total_idade_mulheres / cont_mulheres if cont_mulheres > 0 else 0\n",
    "media_idade_geral = (total_idade_homens + total_idade_mulheres) / (cont_homens + cont_mulheres)\n",
    "media_renda_homens = total_renda_homens / cont_homens if cont_homens > 0 else 0\n",
    "media_renda_mulheres = total_renda_mulheres / cont_mulheres if cont_mulheres > 0 else 0\n",
    "media_renda_geral = (total_renda_homens + total_renda_mulheres) / (cont_homens + cont_mulheres)\n",
    "\n",
    "print(\"\\n\\nResultados da Pesquisa:\")\n",
    "print(f\"Média de idade dos homens: {media_idade_homens:.2f}\")\n",
    "print(f\"Média de idade das mulheres: {media_idade_mulheres:.2f}\")\n",
    "print(f\"Média de idade geral: {media_idade_geral:.2f}\")\n",
    "print(f\"Média de renda dos homens: {media_renda_homens:.2f}\")\n",
    "print(f\"Média de renda das mulheres: {media_renda_mulheres:.2f}\")\n",
    "print(f\"Média de renda geral: {media_renda_geral:.2f}\")\n",
    "print(f\"Pessoa com a maior renda: {pessoa_maior_renda} (renda: {maior_renda:.2f})\")"
   ]
  }
 ],
 "metadata": {
  "language_info": {
   "name": "python"
  }
 },
 "nbformat": 4,
 "nbformat_minor": 2
}
